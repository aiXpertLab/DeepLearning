{
 "cells": [
  {
   "cell_type": "code",
   "execution_count": 1,
   "metadata": {},
   "outputs": [],
   "source": [
    "from fastbook import search_images_ddg, DataBlock, ImageBlock, CategoryBlock, RandomSplitter, parent_label, Resize, DataLoaders, DataLoader\n",
    "from fastdownload import download_url\n",
    "from fastcore.all import L\n",
    "from fastai.vision.all import download_images, Image, resize_images, verify_images, get_image_files\n",
    "from pathlib import Path\n",
    "from time import sleep\n",
    "\n",
    "# grab 20 examples of each of \"bird\" and \"forest\" photos, and save each group of photos to a different folder:\n",
    "searches = 'forest','bird'\n",
    "path = Path('./img/birds')\n",
    "\n",
    "if not path.exists():\n",
    "    for o in searches:\n",
    "        dest = (path/o)\n",
    "        dest.mkdir(exist_ok=True, parents=True)\n",
    "        \n",
    "        download_images(dest, urls= search_images_ddg(f'{o} photo')[:20])\n",
    "        resize_images(dest, max_size=400, dest=dest)\n",
    "        \n",
    "# failed = verify_images(get_image_files(path))\n",
    "# failed.map(Path.unlink)\n",
    "# len(failed)"
   ]
  }
 ],
 "metadata": {
  "kernelspec": {
   "display_name": "Python 3",
   "language": "python",
   "name": "python3"
  },
  "language_info": {
   "codemirror_mode": {
    "name": "ipython",
    "version": 3
   },
   "file_extension": ".py",
   "mimetype": "text/x-python",
   "name": "python",
   "nbconvert_exporter": "python",
   "pygments_lexer": "ipython3",
   "version": "3.12.2"
  }
 },
 "nbformat": 4,
 "nbformat_minor": 2
}
